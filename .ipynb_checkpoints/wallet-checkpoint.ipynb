{
 "cells": [
  {
   "cell_type": "code",
   "execution_count": 18,
   "metadata": {},
   "outputs": [],
   "source": [
    "from constants import *\n",
    "import subprocess\n",
    "import json\n",
    "import os\n",
    "from web3 import Web3\n",
    "from dotenv import load_dotenv\n",
    "from bit import PrivateKeyTestnet\n",
    "from web3.middleware import geth_poa_middleware\n",
    "from eth_account import Account\n",
    "\n",
    "from pathlib import Path\n",
    "from getpass import getpass\n",
    "\n"
   ]
  },
  {
   "cell_type": "code",
   "execution_count": 19,
   "metadata": {},
   "outputs": [],
   "source": [
    "load_dotenv()\n",
    "w3 = Web3(Web3.HTTPProvider(\"http://127.0.0.1:8545\"))\n",
    "w3.middleware_onion.inject(geth_poa_middleware, layer=0)\n",
    "\n"
   ]
  },
  {
   "cell_type": "code",
   "execution_count": 20,
   "metadata": {},
   "outputs": [
    {
     "data": {
      "text/plain": [
       "'point guess object game pet torch tired three hen breeze unit venture'"
      ]
     },
     "execution_count": 20,
     "metadata": {},
     "output_type": "execute_result"
    }
   ],
   "source": [
    "# generate mnemonic\n",
    "#12_word = \"point guess object game pet torch tired three \n",
    "words = os.getenv('12_word')\n",
    "words"
   ]
  },
  {
   "cell_type": "code",
   "execution_count": 21,
   "metadata": {},
   "outputs": [],
   "source": [
    "# The php command that will get our derived addresses\n",
    "# --coin ETH will derive ethereum addresses\n",
    "# --format=json changes the terminal output to json format\n",
    "def derive_wallets(words,coin,numderive):\n",
    "    command = f'php hd-wallet-derive/hd-wallet-derive.php -g --mnemonic=\"{words}\"--cols=path,address,privkey,pubkey --format=json --coin= \"{coin}\" --numderive = \"{numderive}\"' \n",
    "    p = subprocess.Popen(command, stdout=subprocess.PIPE, shell=True) \n",
    "    (output, err) = p.communicate()\n",
    "    p_status = p.wait()\n",
    "    keys = json.loads(output)\n",
    "    # print all the addresses\n",
    "    return keys\n",
    "\n",
    "#    "
   ]
  },
  {
   "cell_type": "code",
   "execution_count": 22,
   "metadata": {},
   "outputs": [],
   "source": [
    "#object called coins to contain wallets\n",
    "coins = []"
   ]
  },
  {
   "cell_type": "code",
   "execution_count": 23,
   "metadata": {},
   "outputs": [],
   "source": [
    "#create eth and btctest wallet\n",
    "eth_wallet= derive_wallets(words,ETH,3)\n",
    "btc_test= derive_wallets(words, BTCTEST,3)\n",
    "coins={'eth':eth_wallet,'btc-test': btc_test}"
   ]
  },
  {
   "cell_type": "code",
   "execution_count": 30,
   "metadata": {},
   "outputs": [
    {
     "data": {
      "text/plain": [
       "{'eth': [{'path': \"m/44'/0'/0'/0/0\",\n",
       "   'address': '14oPi3JFDqq5nFhXKg2xvGZeXmuARe6XDh',\n",
       "   'xprv': 'xprvA44e7dCpgZUUaxTNigjTV2yvFo6zUyjqgM9sAoSF9bipw1d952Wwj27r6PxaZ2b5TrFBkW6FAAGCPhrY2bFaU8kSJpVg8R41r5BXMCeUzNi',\n",
       "   'xpub': 'xpub6H3zX8jiWw2moSXqpiGTrAveopwUtSTh3a5TyBqrhwFoooxHcZqCGpSKwgvf66sTDRhmXaCwRbfKE7VFD9nFB2XDsRqEsifXb4iDz3FuP2H',\n",
       "   'privkey': 'KwYRLKxKC2GRWT8cLjCPeZtqv5dtSZWsXiQu99snxGpXRKDGfkic',\n",
       "   'pubkey': '0308a49597d4ae376b4d0559b0214e368369ffa609d1cf81cdbb48e8d55b7990f7',\n",
       "   'pubkeyhash': '29ae77887cfdfda67892beacb99f1acd79d772ea',\n",
       "   'index': 0},\n",
       "  {'path': \"m/44'/0'/0'/0/1\",\n",
       "   'address': '1GpeJzkHToTszxG5NDjvNJ4XXVkTsqb9Ny',\n",
       "   'xprv': 'xprvA44e7dCpgZUUdQwJv2K2FMg3UNwht2KGTmymR98Ex8Afk1xKEWbpGGE9jzjedZpQYafmAaU945RDyjNBsucoc7gPavcUby7pjHZ2Z85FMo1',\n",
       "   'xpub': 'xpub6H3zX8jiWw2mqu1n23r2cVcn2QnCHV37pzuNDXXrWThecpHTn3v4p4YdbFofvEFjCTLyCDGifjQAVL2DmNRUVXYkDT31bAcr7PctpH8mH48',\n",
       "   'privkey': 'KzGLF4mLuNgH9C6CgmuRhaoMikegtoztKdQsWg9Uj1tUjT7ht79x',\n",
       "   'pubkey': '025ffbba216419dad7c3224733329b1fae784ad0caeb7f85beed1f540937b72a6f',\n",
       "   'pubkeyhash': 'ad8c94fe4b07253c2ac65c41fb578d5da34b1a66',\n",
       "   'index': 1},\n",
       "  {'path': \"m/44'/0'/0'/0/2\",\n",
       "   'address': '1CfVoSGgjyBVPbGfZaNzcCDc6dniN1jeXY',\n",
       "   'xprv': 'xprvA44e7dCpgZUUgZ6UUnaohcXUMykAUtsieXLe4Wt5y3sx4ms28WurjiXcJz9Ne7eUquhmdZftaPDgB3Avu1Tue4h9A9QESQqDEJNPwEu234x',\n",
       "   'xpub': 'xpub6H3zX8jiWw2mu3Awap7p4kUCv1aetMba1kGEruHhXPQvwaCAg4E7HWr6AFZKXu4qdHsRuYx6KeCp2BvnMguzRfMoQuPRDeqpr9HsrBDKDYh',\n",
       "   'privkey': 'Kz3FPZHPZ2vfj8a3cF4ADYqc1SJQ2UFGcjum4dexumnHyAxeHrtL',\n",
       "   'pubkey': '02867e33aa4495f30afd405d9403410acb28a28d5776bd35dcd07a1745c0c0d355',\n",
       "   'pubkeyhash': '7ff13b518497e08f46b07028bb32d2f0f1351618',\n",
       "   'index': 2},\n",
       "  {'path': \"m/44'/0'/0'/0/3\",\n",
       "   'address': '1G5edvWtLjggCDPJk7BuuW1XoZmvsRp8EQ',\n",
       "   'xprv': 'xprvA44e7dCpgZUUjCKq7ivsXxSiqapgyE4ioQfiH4LXXLbV5kg14M5Gi3gG6B1xNhWCd9kzUhQFWt5eB7zptMHgr4bWoUGABrtgz4FmmyS7TF2',\n",
       "   'xpub': 'xpub6H3zX8jiWw2mwgQJDkTsu6PTPcfBNgnaAdbK5Sk95g8TxZ19btPXFqzjwVLEWUGa52qyAgouT9JCcmGH8nVE5PCGLoTsjcmGKrAzoWA7VeR',\n",
       "   'privkey': 'Ky6PqvBic1YFEwutKRBYk7pt81zNXPubqmDDkn7NpQioj6jbBH98',\n",
       "   'pubkey': '03e87de00529c30aabe28cb37dcb8429ec9332e4d6ab614a3ea60150acca7fa806',\n",
       "   'pubkeyhash': 'a56af7d25ba5888a4f178fa0b32ca1dc8960a8e8',\n",
       "   'index': 3},\n",
       "  {'path': \"m/44'/0'/0'/0/4\",\n",
       "   'address': '1MQFe6iMusR8HvVxXYTEoFmfnnh3KbjjvX',\n",
       "   'xprv': 'xprvA44e7dCpgZUUnTdAWv3HFN7nLf1VndjVFHbVDJRAMJC92hW1csGWeuKq7qDj62Ru9P2Sppoaz1oa8LENWnHs8BcvwFKVKq6d52xSwiWXCjP',\n",
       "   'xpub': 'xpub6H3zX8jiWw2mzwhdcwaHcW4WtgqzC6TLcWX61gpmudj7uVqAAQamCheJy8eGebzFMQ9ttcugpJKANky1iHypaRs7SjVMk2AEhtqPc85qRgX',\n",
       "   'privkey': 'KzH8wyEQKVGz4LkeddE4xfjDB95Jan1JhgqThfTTY7upQq9mu9bk',\n",
       "   'pubkey': '0396632d146957c76c61e995362a31f591620ddf7a9fed371ab5995584bc731324',\n",
       "   'pubkeyhash': 'dfc84da7f1739ab7fcf5a61e292d5914afe0065b',\n",
       "   'index': 4},\n",
       "  {'path': \"m/44'/0'/0'/0/5\",\n",
       "   'address': '1FntjPvkPeDByTa1SLMT6A7hh4q3FoSNBF',\n",
       "   'xprv': 'xprvA44e7dCpgZUUpuShPF9tas5at9T2qpMywdDykjwD2YwQ6czTzYEgPPS3Fvfmz4hLBYWgmXvDXCPgo9beJEi6xGCmDYvrn2f7z3igk1YfhAS',\n",
       "   'xpub': 'xpub6H3zX8jiWw2n3PXAVGgtx12KSBHXFH5qJr9aZ8LpatUNyRKcY5YvwBkX7EUDaPZKsXJ82oNsb2MtWRLfapdfNrQ6r4DonXeYQraxs1NAvym',\n",
       "   'privkey': 'KwjRv5KeyepLSErgJh5QyvrbCQjsxS1WNkkhHJZBmDWDrkhfXfaj',\n",
       "   'pubkey': '037c1efeacaaf5fe86295959c57a27a215c525de73b17083368aeaacde7e6909a2',\n",
       "   'pubkeyhash': 'a23fa97df9ea78c46ec6ba3b4676545302db60b1',\n",
       "   'index': 5},\n",
       "  {'path': \"m/44'/0'/0'/0/6\",\n",
       "   'address': '1L4bgUL5yZcYS5EUHpPnLkdwXthugDWmPJ',\n",
       "   'xprv': 'xprvA44e7dCpgZUUrcjQ9npyyiJfT7aDS66k67S2PwdAU4wGbF9FJrUQdMjvxDktaxRaf2LBccVjtX8pB2szJ1u9TBzyH8UC7NtmqC9FauYKKN2',\n",
       "   'xpub': 'xpub6H3zX8jiWw2n56osFpMzLrFQ19QhqYpbTLMdCL2n2QUFU3UPrPnfBA4QoUJ2m6PXTSyA2GeaBFjp85VWJDr62im21i4YWvy4uJJuT1Z9u34',\n",
       "   'privkey': 'L5ATrYCBqGqNzCeNbNKc2Ndv3xzszKnNv9y1XJuvbwoXY8fgsypT',\n",
       "   'pubkey': '02ac0811b9432cdaabdd3b11f671b5edcd32b2b82a9402f9bc310535e90b912a71',\n",
       "   'pubkeyhash': 'd118966f0fd916cfa84b8fc6417555c6769abac6',\n",
       "   'index': 6},\n",
       "  {'path': \"m/44'/0'/0'/0/7\",\n",
       "   'address': '1DnWWF7o6xdVEjFcbn51cpg316brC77set',\n",
       "   'xprv': 'xprvA44e7dCpgZUUt6dKcovFVyqFiopNNHUA1Gkcka4EexhH9vMsydSjHbT4Qb17mTYGVFw15sK71CQ762Goj6cV2UBZTgtLKLkrahUYVAa62k7',\n",
       "   'xpub': 'xpub6H3zX8jiWw2n6ahniqTFs7mzGqermkC1NVgDYxTrDJEG2ih2XAkyqPmYFpcFzJh5Pa3CV4mPHqeLBbvy59RY9MAcphbD6pZELN9q5idxFQZ',\n",
       "   'privkey': 'L4gZsXTeGQARpUHp8dPYD8QM5ize54RJ2GyzrbLJ5uZ1SFkrkgvr',\n",
       "   'pubkey': '022311a048fbcd40d665e8be46bfda8e46c683629fa6b057cc896d846058f8ffd9',\n",
       "   'pubkeyhash': '8c3cdb46c8864700a4e8dd03b299d51804c5f939',\n",
       "   'index': 7},\n",
       "  {'path': \"m/44'/0'/0'/0/8\",\n",
       "   'address': '1AtXeTz6mLd6ovAtussuQ7a9W81De1am9j',\n",
       "   'xprv': 'xprvA44e7dCpgZUUwHWmG5VcuFLbivquqh3ghktK4wLdrJKoK12LYNjCA3FW8ru9aT4XhThtPLPB5VWZ6UqcB2Qwk17hia3huk1M89Xuk2W4sPj',\n",
       "   'xpub': 'xpub6H3zX8jiWw2n9mbEN72dGPHLGxgQF9mY4yousKkFQdrnBoMV5v3ShqZyz8aKpEPPThXjpvy4FwpmwN3vhS9KtioLKUEBHXDQbdoaGgbQHue',\n",
       "   'privkey': 'L3YNctSbV8JSn1jTBzGURx9DkZy92xcwRmKqp5Ufhuey4ZBRfMCd',\n",
       "   'pubkey': '031191db845a93f068a13168147dc7dd84025e85f4fbcecefed215478419c70830',\n",
       "   'pubkeyhash': '6c77ed95384c91ebc9bd9850e9dc7a65b3646dff',\n",
       "   'index': 8},\n",
       "  {'path': \"m/44'/0'/0'/0/9\",\n",
       "   'address': '1GPtMwbybiRZQd1xCugMgq3nRhZjBafDSE',\n",
       "   'xprv': 'xprvA44e7dCpgZUUzfE9DKE5RhMNGSszBKYqcVJowSL4k8884P4BF1AUYGH8rNuLr46ykyiHFLe3ybm2P762PDUU6GBqVv9SQQ6YscgxqtS12fM',\n",
       "   'xpub': 'xpub6H3zX8jiWw2nD9JcKLm5nqJ6pUiUanGgyiEQjpjgJTf6wBPKnYUj64bchhLSUc1QSy7TTMnRZqcDBsrh1hReqbNueMyHfhvjfXTxgLAutwh',\n",
       "   'privkey': 'Kxec4KPuYszRjgT5LW8QqPohUsr6xbwFYk7YqtJ5VwybRXH2QhFv',\n",
       "   'pubkey': '03eab531dfee391609be56184d0334a5df3d5f0fa504ac1a1a5814da0fe997c1e7',\n",
       "   'pubkeyhash': 'a8dde976ce872876092a9ba284d95189fbe8d685',\n",
       "   'index': 9}],\n",
       " 'btc-test': [{'path': \"m/44'/0'/0'/0/0\",\n",
       "   'address': '14oPi3JFDqq5nFhXKg2xvGZeXmuARe6XDh',\n",
       "   'xprv': 'xprvA44e7dCpgZUUaxTNigjTV2yvFo6zUyjqgM9sAoSF9bipw1d952Wwj27r6PxaZ2b5TrFBkW6FAAGCPhrY2bFaU8kSJpVg8R41r5BXMCeUzNi',\n",
       "   'xpub': 'xpub6H3zX8jiWw2moSXqpiGTrAveopwUtSTh3a5TyBqrhwFoooxHcZqCGpSKwgvf66sTDRhmXaCwRbfKE7VFD9nFB2XDsRqEsifXb4iDz3FuP2H',\n",
       "   'privkey': 'KwYRLKxKC2GRWT8cLjCPeZtqv5dtSZWsXiQu99snxGpXRKDGfkic',\n",
       "   'pubkey': '0308a49597d4ae376b4d0559b0214e368369ffa609d1cf81cdbb48e8d55b7990f7',\n",
       "   'pubkeyhash': '29ae77887cfdfda67892beacb99f1acd79d772ea',\n",
       "   'index': 0},\n",
       "  {'path': \"m/44'/0'/0'/0/1\",\n",
       "   'address': '1GpeJzkHToTszxG5NDjvNJ4XXVkTsqb9Ny',\n",
       "   'xprv': 'xprvA44e7dCpgZUUdQwJv2K2FMg3UNwht2KGTmymR98Ex8Afk1xKEWbpGGE9jzjedZpQYafmAaU945RDyjNBsucoc7gPavcUby7pjHZ2Z85FMo1',\n",
       "   'xpub': 'xpub6H3zX8jiWw2mqu1n23r2cVcn2QnCHV37pzuNDXXrWThecpHTn3v4p4YdbFofvEFjCTLyCDGifjQAVL2DmNRUVXYkDT31bAcr7PctpH8mH48',\n",
       "   'privkey': 'KzGLF4mLuNgH9C6CgmuRhaoMikegtoztKdQsWg9Uj1tUjT7ht79x',\n",
       "   'pubkey': '025ffbba216419dad7c3224733329b1fae784ad0caeb7f85beed1f540937b72a6f',\n",
       "   'pubkeyhash': 'ad8c94fe4b07253c2ac65c41fb578d5da34b1a66',\n",
       "   'index': 1},\n",
       "  {'path': \"m/44'/0'/0'/0/2\",\n",
       "   'address': '1CfVoSGgjyBVPbGfZaNzcCDc6dniN1jeXY',\n",
       "   'xprv': 'xprvA44e7dCpgZUUgZ6UUnaohcXUMykAUtsieXLe4Wt5y3sx4ms28WurjiXcJz9Ne7eUquhmdZftaPDgB3Avu1Tue4h9A9QESQqDEJNPwEu234x',\n",
       "   'xpub': 'xpub6H3zX8jiWw2mu3Awap7p4kUCv1aetMba1kGEruHhXPQvwaCAg4E7HWr6AFZKXu4qdHsRuYx6KeCp2BvnMguzRfMoQuPRDeqpr9HsrBDKDYh',\n",
       "   'privkey': 'Kz3FPZHPZ2vfj8a3cF4ADYqc1SJQ2UFGcjum4dexumnHyAxeHrtL',\n",
       "   'pubkey': '02867e33aa4495f30afd405d9403410acb28a28d5776bd35dcd07a1745c0c0d355',\n",
       "   'pubkeyhash': '7ff13b518497e08f46b07028bb32d2f0f1351618',\n",
       "   'index': 2},\n",
       "  {'path': \"m/44'/0'/0'/0/3\",\n",
       "   'address': '1G5edvWtLjggCDPJk7BuuW1XoZmvsRp8EQ',\n",
       "   'xprv': 'xprvA44e7dCpgZUUjCKq7ivsXxSiqapgyE4ioQfiH4LXXLbV5kg14M5Gi3gG6B1xNhWCd9kzUhQFWt5eB7zptMHgr4bWoUGABrtgz4FmmyS7TF2',\n",
       "   'xpub': 'xpub6H3zX8jiWw2mwgQJDkTsu6PTPcfBNgnaAdbK5Sk95g8TxZ19btPXFqzjwVLEWUGa52qyAgouT9JCcmGH8nVE5PCGLoTsjcmGKrAzoWA7VeR',\n",
       "   'privkey': 'Ky6PqvBic1YFEwutKRBYk7pt81zNXPubqmDDkn7NpQioj6jbBH98',\n",
       "   'pubkey': '03e87de00529c30aabe28cb37dcb8429ec9332e4d6ab614a3ea60150acca7fa806',\n",
       "   'pubkeyhash': 'a56af7d25ba5888a4f178fa0b32ca1dc8960a8e8',\n",
       "   'index': 3},\n",
       "  {'path': \"m/44'/0'/0'/0/4\",\n",
       "   'address': '1MQFe6iMusR8HvVxXYTEoFmfnnh3KbjjvX',\n",
       "   'xprv': 'xprvA44e7dCpgZUUnTdAWv3HFN7nLf1VndjVFHbVDJRAMJC92hW1csGWeuKq7qDj62Ru9P2Sppoaz1oa8LENWnHs8BcvwFKVKq6d52xSwiWXCjP',\n",
       "   'xpub': 'xpub6H3zX8jiWw2mzwhdcwaHcW4WtgqzC6TLcWX61gpmudj7uVqAAQamCheJy8eGebzFMQ9ttcugpJKANky1iHypaRs7SjVMk2AEhtqPc85qRgX',\n",
       "   'privkey': 'KzH8wyEQKVGz4LkeddE4xfjDB95Jan1JhgqThfTTY7upQq9mu9bk',\n",
       "   'pubkey': '0396632d146957c76c61e995362a31f591620ddf7a9fed371ab5995584bc731324',\n",
       "   'pubkeyhash': 'dfc84da7f1739ab7fcf5a61e292d5914afe0065b',\n",
       "   'index': 4},\n",
       "  {'path': \"m/44'/0'/0'/0/5\",\n",
       "   'address': '1FntjPvkPeDByTa1SLMT6A7hh4q3FoSNBF',\n",
       "   'xprv': 'xprvA44e7dCpgZUUpuShPF9tas5at9T2qpMywdDykjwD2YwQ6czTzYEgPPS3Fvfmz4hLBYWgmXvDXCPgo9beJEi6xGCmDYvrn2f7z3igk1YfhAS',\n",
       "   'xpub': 'xpub6H3zX8jiWw2n3PXAVGgtx12KSBHXFH5qJr9aZ8LpatUNyRKcY5YvwBkX7EUDaPZKsXJ82oNsb2MtWRLfapdfNrQ6r4DonXeYQraxs1NAvym',\n",
       "   'privkey': 'KwjRv5KeyepLSErgJh5QyvrbCQjsxS1WNkkhHJZBmDWDrkhfXfaj',\n",
       "   'pubkey': '037c1efeacaaf5fe86295959c57a27a215c525de73b17083368aeaacde7e6909a2',\n",
       "   'pubkeyhash': 'a23fa97df9ea78c46ec6ba3b4676545302db60b1',\n",
       "   'index': 5},\n",
       "  {'path': \"m/44'/0'/0'/0/6\",\n",
       "   'address': '1L4bgUL5yZcYS5EUHpPnLkdwXthugDWmPJ',\n",
       "   'xprv': 'xprvA44e7dCpgZUUrcjQ9npyyiJfT7aDS66k67S2PwdAU4wGbF9FJrUQdMjvxDktaxRaf2LBccVjtX8pB2szJ1u9TBzyH8UC7NtmqC9FauYKKN2',\n",
       "   'xpub': 'xpub6H3zX8jiWw2n56osFpMzLrFQ19QhqYpbTLMdCL2n2QUFU3UPrPnfBA4QoUJ2m6PXTSyA2GeaBFjp85VWJDr62im21i4YWvy4uJJuT1Z9u34',\n",
       "   'privkey': 'L5ATrYCBqGqNzCeNbNKc2Ndv3xzszKnNv9y1XJuvbwoXY8fgsypT',\n",
       "   'pubkey': '02ac0811b9432cdaabdd3b11f671b5edcd32b2b82a9402f9bc310535e90b912a71',\n",
       "   'pubkeyhash': 'd118966f0fd916cfa84b8fc6417555c6769abac6',\n",
       "   'index': 6},\n",
       "  {'path': \"m/44'/0'/0'/0/7\",\n",
       "   'address': '1DnWWF7o6xdVEjFcbn51cpg316brC77set',\n",
       "   'xprv': 'xprvA44e7dCpgZUUt6dKcovFVyqFiopNNHUA1Gkcka4EexhH9vMsydSjHbT4Qb17mTYGVFw15sK71CQ762Goj6cV2UBZTgtLKLkrahUYVAa62k7',\n",
       "   'xpub': 'xpub6H3zX8jiWw2n6ahniqTFs7mzGqermkC1NVgDYxTrDJEG2ih2XAkyqPmYFpcFzJh5Pa3CV4mPHqeLBbvy59RY9MAcphbD6pZELN9q5idxFQZ',\n",
       "   'privkey': 'L4gZsXTeGQARpUHp8dPYD8QM5ize54RJ2GyzrbLJ5uZ1SFkrkgvr',\n",
       "   'pubkey': '022311a048fbcd40d665e8be46bfda8e46c683629fa6b057cc896d846058f8ffd9',\n",
       "   'pubkeyhash': '8c3cdb46c8864700a4e8dd03b299d51804c5f939',\n",
       "   'index': 7},\n",
       "  {'path': \"m/44'/0'/0'/0/8\",\n",
       "   'address': '1AtXeTz6mLd6ovAtussuQ7a9W81De1am9j',\n",
       "   'xprv': 'xprvA44e7dCpgZUUwHWmG5VcuFLbivquqh3ghktK4wLdrJKoK12LYNjCA3FW8ru9aT4XhThtPLPB5VWZ6UqcB2Qwk17hia3huk1M89Xuk2W4sPj',\n",
       "   'xpub': 'xpub6H3zX8jiWw2n9mbEN72dGPHLGxgQF9mY4yousKkFQdrnBoMV5v3ShqZyz8aKpEPPThXjpvy4FwpmwN3vhS9KtioLKUEBHXDQbdoaGgbQHue',\n",
       "   'privkey': 'L3YNctSbV8JSn1jTBzGURx9DkZy92xcwRmKqp5Ufhuey4ZBRfMCd',\n",
       "   'pubkey': '031191db845a93f068a13168147dc7dd84025e85f4fbcecefed215478419c70830',\n",
       "   'pubkeyhash': '6c77ed95384c91ebc9bd9850e9dc7a65b3646dff',\n",
       "   'index': 8},\n",
       "  {'path': \"m/44'/0'/0'/0/9\",\n",
       "   'address': '1GPtMwbybiRZQd1xCugMgq3nRhZjBafDSE',\n",
       "   'xprv': 'xprvA44e7dCpgZUUzfE9DKE5RhMNGSszBKYqcVJowSL4k8884P4BF1AUYGH8rNuLr46ykyiHFLe3ybm2P762PDUU6GBqVv9SQQ6YscgxqtS12fM',\n",
       "   'xpub': 'xpub6H3zX8jiWw2nD9JcKLm5nqJ6pUiUanGgyiEQjpjgJTf6wBPKnYUj64bchhLSUc1QSy7TTMnRZqcDBsrh1hReqbNueMyHfhvjfXTxgLAutwh',\n",
       "   'privkey': 'Kxec4KPuYszRjgT5LW8QqPohUsr6xbwFYk7YqtJ5VwybRXH2QhFv',\n",
       "   'pubkey': '03eab531dfee391609be56184d0334a5df3d5f0fa504ac1a1a5814da0fe997c1e7',\n",
       "   'pubkeyhash': 'a8dde976ce872876092a9ba284d95189fbe8d685',\n",
       "   'index': 9}]}"
      ]
     },
     "execution_count": 30,
     "metadata": {},
     "output_type": "execute_result"
    }
   ],
   "source": [
    "#test data in correct format  \n",
    "coins "
   ]
  },
  {
   "cell_type": "code",
   "execution_count": 66,
   "metadata": {},
   "outputs": [
    {
     "data": {
      "text/plain": [
       "'KwYRLKxKC2GRWT8cLjCPeZtqv5dtSZWsXiQu99snxGpXRKDGfkic'"
      ]
     },
     "execution_count": 66,
     "metadata": {},
     "output_type": "execute_result"
    }
   ],
   "source": [
    "#selected child account key ethereum\n",
    "coins['eth'][0]['privkey']"
   ]
  },
  {
   "cell_type": "code",
   "execution_count": 67,
   "metadata": {},
   "outputs": [
    {
     "data": {
      "text/plain": [
       "'14oPi3JFDqq5nFhXKg2xvGZeXmuARe6XDh'"
      ]
     },
     "execution_count": 67,
     "metadata": {},
     "output_type": "execute_result"
    }
   ],
   "source": [
    "coins['eth'][0]['address']"
   ]
  },
  {
   "cell_type": "code",
   "execution_count": 78,
   "metadata": {},
   "outputs": [
    {
     "data": {
      "text/plain": [
       "'Kz3FPZHPZ2vfj8a3cF4ADYqc1SJQ2UFGcjum4dexumnHyAxeHrtL'"
      ]
     },
     "execution_count": 78,
     "metadata": {},
     "output_type": "execute_result"
    }
   ],
   "source": [
    "#select child account key btctest\n",
    "coins['btc-test'][2]['privkey']"
   ]
  },
  {
   "cell_type": "code",
   "execution_count": 79,
   "metadata": {},
   "outputs": [],
   "source": [
    "#function 1 priv_key_to account\n",
    "\n",
    "def priv_key_to_account(coin, priv_key):\n",
    "    if coin == ETH:\n",
    "        return Account.privateKeyToAccount(priv_key)\n",
    "        \n",
    "    elif coin == BTCTEST:\n",
    "        return PrivateKeyTestnet(priv_key)    "
   ]
  },
  {
   "cell_type": "code",
   "execution_count": 80,
   "metadata": {},
   "outputs": [],
   "source": [
    "def priv_key_to_account(coin, priv_key):\n",
    "    if coin == ETH:\n",
    "        account_1 = Account.privateKeyToAccount(priv_key)\n",
    "        account_1.hex()\n",
    "        return account_1\n",
    "    elif coin == BTCTEST:\n",
    "        return PrivateKeyTestnet(priv_key)    "
   ]
  },
  {
   "cell_type": "code",
   "execution_count": 81,
   "metadata": {},
   "outputs": [
    {
     "ename": "Error",
     "evalue": "Non-hexadecimal digit found",
     "output_type": "error",
     "traceback": [
      "\u001b[1;31m---------------------------------------------------------------------------\u001b[0m",
      "\u001b[1;31mError\u001b[0m                                     Traceback (most recent call last)",
      "\u001b[1;32m<ipython-input-81-7a0672a4fd0a>\u001b[0m in \u001b[0;36m<module>\u001b[1;34m\u001b[0m\n\u001b[1;32m----> 1\u001b[1;33m \u001b[0mpriv_key_to_account\u001b[0m\u001b[1;33m(\u001b[0m\u001b[0mETH\u001b[0m\u001b[1;33m,\u001b[0m \u001b[0mcoins\u001b[0m\u001b[1;33m[\u001b[0m\u001b[1;34m'eth'\u001b[0m\u001b[1;33m]\u001b[0m\u001b[1;33m[\u001b[0m\u001b[1;36m0\u001b[0m\u001b[1;33m]\u001b[0m\u001b[1;33m[\u001b[0m\u001b[1;34m'privkey'\u001b[0m\u001b[1;33m]\u001b[0m\u001b[1;33m)\u001b[0m\u001b[1;33m\u001b[0m\u001b[1;33m\u001b[0m\u001b[0m\n\u001b[0m",
      "\u001b[1;32m<ipython-input-80-8c60fdfda414>\u001b[0m in \u001b[0;36mpriv_key_to_account\u001b[1;34m(coin, priv_key)\u001b[0m\n\u001b[0;32m      1\u001b[0m \u001b[1;32mdef\u001b[0m \u001b[0mpriv_key_to_account\u001b[0m\u001b[1;33m(\u001b[0m\u001b[0mcoin\u001b[0m\u001b[1;33m,\u001b[0m \u001b[0mpriv_key\u001b[0m\u001b[1;33m)\u001b[0m\u001b[1;33m:\u001b[0m\u001b[1;33m\u001b[0m\u001b[1;33m\u001b[0m\u001b[0m\n\u001b[0;32m      2\u001b[0m     \u001b[1;32mif\u001b[0m \u001b[0mcoin\u001b[0m \u001b[1;33m==\u001b[0m \u001b[0mETH\u001b[0m\u001b[1;33m:\u001b[0m\u001b[1;33m\u001b[0m\u001b[1;33m\u001b[0m\u001b[0m\n\u001b[1;32m----> 3\u001b[1;33m         \u001b[0maccount_1\u001b[0m \u001b[1;33m=\u001b[0m \u001b[0mAccount\u001b[0m\u001b[1;33m.\u001b[0m\u001b[0mprivateKeyToAccount\u001b[0m\u001b[1;33m(\u001b[0m\u001b[0mpriv_key\u001b[0m\u001b[1;33m)\u001b[0m\u001b[1;33m\u001b[0m\u001b[1;33m\u001b[0m\u001b[0m\n\u001b[0m\u001b[0;32m      4\u001b[0m         \u001b[0maccount_1\u001b[0m\u001b[1;33m.\u001b[0m\u001b[0mhex\u001b[0m\u001b[1;33m(\u001b[0m\u001b[1;33m)\u001b[0m\u001b[1;33m\u001b[0m\u001b[1;33m\u001b[0m\u001b[0m\n\u001b[0;32m      5\u001b[0m         \u001b[1;32mreturn\u001b[0m \u001b[0maccount_1\u001b[0m\u001b[1;33m\u001b[0m\u001b[1;33m\u001b[0m\u001b[0m\n",
      "\u001b[1;32m~\\anaconda3\\envs\\ethereum\\lib\\site-packages\\eth_utils\\decorators.py\u001b[0m in \u001b[0;36m_wrapper\u001b[1;34m(*args, **kwargs)\u001b[0m\n\u001b[0;32m     18\u001b[0m                 \u001b[1;32mreturn\u001b[0m \u001b[0mself\u001b[0m\u001b[1;33m.\u001b[0m\u001b[0mmethod\u001b[0m\u001b[1;33m(\u001b[0m\u001b[0mobj\u001b[0m\u001b[1;33m,\u001b[0m \u001b[1;33m*\u001b[0m\u001b[0margs\u001b[0m\u001b[1;33m,\u001b[0m \u001b[1;33m**\u001b[0m\u001b[0mkwargs\u001b[0m\u001b[1;33m)\u001b[0m\u001b[1;33m\u001b[0m\u001b[1;33m\u001b[0m\u001b[0m\n\u001b[0;32m     19\u001b[0m             \u001b[1;32melse\u001b[0m\u001b[1;33m:\u001b[0m\u001b[1;33m\u001b[0m\u001b[1;33m\u001b[0m\u001b[0m\n\u001b[1;32m---> 20\u001b[1;33m                 \u001b[1;32mreturn\u001b[0m \u001b[0mself\u001b[0m\u001b[1;33m.\u001b[0m\u001b[0mmethod\u001b[0m\u001b[1;33m(\u001b[0m\u001b[0mobjtype\u001b[0m\u001b[1;33m,\u001b[0m \u001b[1;33m*\u001b[0m\u001b[0margs\u001b[0m\u001b[1;33m,\u001b[0m \u001b[1;33m**\u001b[0m\u001b[0mkwargs\u001b[0m\u001b[1;33m)\u001b[0m\u001b[1;33m\u001b[0m\u001b[1;33m\u001b[0m\u001b[0m\n\u001b[0m\u001b[0;32m     21\u001b[0m \u001b[1;33m\u001b[0m\u001b[0m\n\u001b[0;32m     22\u001b[0m         \u001b[1;32mreturn\u001b[0m \u001b[0m_wrapper\u001b[0m\u001b[1;33m\u001b[0m\u001b[1;33m\u001b[0m\u001b[0m\n",
      "\u001b[1;32m~\\anaconda3\\envs\\ethereum\\lib\\site-packages\\eth_account\\account.py\u001b[0m in \u001b[0;36mprivateKeyToAccount\u001b[1;34m(self, private_key)\u001b[0m\n\u001b[0;32m    219\u001b[0m             \u001b[0mcategory\u001b[0m\u001b[1;33m=\u001b[0m\u001b[0mDeprecationWarning\u001b[0m\u001b[1;33m,\u001b[0m\u001b[1;33m\u001b[0m\u001b[1;33m\u001b[0m\u001b[0m\n\u001b[0;32m    220\u001b[0m         )\n\u001b[1;32m--> 221\u001b[1;33m         \u001b[1;32mreturn\u001b[0m \u001b[0mself\u001b[0m\u001b[1;33m.\u001b[0m\u001b[0mfrom_key\u001b[0m\u001b[1;33m(\u001b[0m\u001b[0mprivate_key\u001b[0m\u001b[1;33m)\u001b[0m\u001b[1;33m\u001b[0m\u001b[1;33m\u001b[0m\u001b[0m\n\u001b[0m\u001b[0;32m    222\u001b[0m \u001b[1;33m\u001b[0m\u001b[0m\n\u001b[0;32m    223\u001b[0m     \u001b[1;33m@\u001b[0m\u001b[0mcombomethod\u001b[0m\u001b[1;33m\u001b[0m\u001b[1;33m\u001b[0m\u001b[0m\n",
      "\u001b[1;32m~\\anaconda3\\envs\\ethereum\\lib\\site-packages\\eth_utils\\decorators.py\u001b[0m in \u001b[0;36m_wrapper\u001b[1;34m(*args, **kwargs)\u001b[0m\n\u001b[0;32m     18\u001b[0m                 \u001b[1;32mreturn\u001b[0m \u001b[0mself\u001b[0m\u001b[1;33m.\u001b[0m\u001b[0mmethod\u001b[0m\u001b[1;33m(\u001b[0m\u001b[0mobj\u001b[0m\u001b[1;33m,\u001b[0m \u001b[1;33m*\u001b[0m\u001b[0margs\u001b[0m\u001b[1;33m,\u001b[0m \u001b[1;33m**\u001b[0m\u001b[0mkwargs\u001b[0m\u001b[1;33m)\u001b[0m\u001b[1;33m\u001b[0m\u001b[1;33m\u001b[0m\u001b[0m\n\u001b[0;32m     19\u001b[0m             \u001b[1;32melse\u001b[0m\u001b[1;33m:\u001b[0m\u001b[1;33m\u001b[0m\u001b[1;33m\u001b[0m\u001b[0m\n\u001b[1;32m---> 20\u001b[1;33m                 \u001b[1;32mreturn\u001b[0m \u001b[0mself\u001b[0m\u001b[1;33m.\u001b[0m\u001b[0mmethod\u001b[0m\u001b[1;33m(\u001b[0m\u001b[0mobjtype\u001b[0m\u001b[1;33m,\u001b[0m \u001b[1;33m*\u001b[0m\u001b[0margs\u001b[0m\u001b[1;33m,\u001b[0m \u001b[1;33m**\u001b[0m\u001b[0mkwargs\u001b[0m\u001b[1;33m)\u001b[0m\u001b[1;33m\u001b[0m\u001b[1;33m\u001b[0m\u001b[0m\n\u001b[0m\u001b[0;32m     21\u001b[0m \u001b[1;33m\u001b[0m\u001b[0m\n\u001b[0;32m     22\u001b[0m         \u001b[1;32mreturn\u001b[0m \u001b[0m_wrapper\u001b[0m\u001b[1;33m\u001b[0m\u001b[1;33m\u001b[0m\u001b[0m\n",
      "\u001b[1;32m~\\anaconda3\\envs\\ethereum\\lib\\site-packages\\eth_account\\account.py\u001b[0m in \u001b[0;36mfrom_key\u001b[1;34m(self, private_key)\u001b[0m\n\u001b[0;32m    244\u001b[0m             \u001b[1;31m# but without the private key argument\u001b[0m\u001b[1;33m\u001b[0m\u001b[1;33m\u001b[0m\u001b[1;33m\u001b[0m\u001b[0m\n\u001b[0;32m    245\u001b[0m         \"\"\"\n\u001b[1;32m--> 246\u001b[1;33m         \u001b[0mkey\u001b[0m \u001b[1;33m=\u001b[0m \u001b[0mself\u001b[0m\u001b[1;33m.\u001b[0m\u001b[0m_parsePrivateKey\u001b[0m\u001b[1;33m(\u001b[0m\u001b[0mprivate_key\u001b[0m\u001b[1;33m)\u001b[0m\u001b[1;33m\u001b[0m\u001b[1;33m\u001b[0m\u001b[0m\n\u001b[0m\u001b[0;32m    247\u001b[0m         \u001b[1;32mreturn\u001b[0m \u001b[0mLocalAccount\u001b[0m\u001b[1;33m(\u001b[0m\u001b[0mkey\u001b[0m\u001b[1;33m,\u001b[0m \u001b[0mself\u001b[0m\u001b[1;33m)\u001b[0m\u001b[1;33m\u001b[0m\u001b[1;33m\u001b[0m\u001b[0m\n\u001b[0;32m    248\u001b[0m \u001b[1;33m\u001b[0m\u001b[0m\n",
      "\u001b[1;32m~\\anaconda3\\envs\\ethereum\\lib\\site-packages\\eth_utils\\decorators.py\u001b[0m in \u001b[0;36m_wrapper\u001b[1;34m(*args, **kwargs)\u001b[0m\n\u001b[0;32m     18\u001b[0m                 \u001b[1;32mreturn\u001b[0m \u001b[0mself\u001b[0m\u001b[1;33m.\u001b[0m\u001b[0mmethod\u001b[0m\u001b[1;33m(\u001b[0m\u001b[0mobj\u001b[0m\u001b[1;33m,\u001b[0m \u001b[1;33m*\u001b[0m\u001b[0margs\u001b[0m\u001b[1;33m,\u001b[0m \u001b[1;33m**\u001b[0m\u001b[0mkwargs\u001b[0m\u001b[1;33m)\u001b[0m\u001b[1;33m\u001b[0m\u001b[1;33m\u001b[0m\u001b[0m\n\u001b[0;32m     19\u001b[0m             \u001b[1;32melse\u001b[0m\u001b[1;33m:\u001b[0m\u001b[1;33m\u001b[0m\u001b[1;33m\u001b[0m\u001b[0m\n\u001b[1;32m---> 20\u001b[1;33m                 \u001b[1;32mreturn\u001b[0m \u001b[0mself\u001b[0m\u001b[1;33m.\u001b[0m\u001b[0mmethod\u001b[0m\u001b[1;33m(\u001b[0m\u001b[0mobjtype\u001b[0m\u001b[1;33m,\u001b[0m \u001b[1;33m*\u001b[0m\u001b[0margs\u001b[0m\u001b[1;33m,\u001b[0m \u001b[1;33m**\u001b[0m\u001b[0mkwargs\u001b[0m\u001b[1;33m)\u001b[0m\u001b[1;33m\u001b[0m\u001b[1;33m\u001b[0m\u001b[0m\n\u001b[0m\u001b[0;32m     21\u001b[0m \u001b[1;33m\u001b[0m\u001b[0m\n\u001b[0;32m     22\u001b[0m         \u001b[1;32mreturn\u001b[0m \u001b[0m_wrapper\u001b[0m\u001b[1;33m\u001b[0m\u001b[1;33m\u001b[0m\u001b[0m\n",
      "\u001b[1;32m~\\anaconda3\\envs\\ethereum\\lib\\site-packages\\eth_account\\account.py\u001b[0m in \u001b[0;36m_parsePrivateKey\u001b[1;34m(self, key)\u001b[0m\n\u001b[0;32m    692\u001b[0m \u001b[1;33m\u001b[0m\u001b[0m\n\u001b[0;32m    693\u001b[0m         \u001b[1;32mtry\u001b[0m\u001b[1;33m:\u001b[0m\u001b[1;33m\u001b[0m\u001b[1;33m\u001b[0m\u001b[0m\n\u001b[1;32m--> 694\u001b[1;33m             \u001b[1;32mreturn\u001b[0m \u001b[0mself\u001b[0m\u001b[1;33m.\u001b[0m\u001b[0m_keys\u001b[0m\u001b[1;33m.\u001b[0m\u001b[0mPrivateKey\u001b[0m\u001b[1;33m(\u001b[0m\u001b[0mHexBytes\u001b[0m\u001b[1;33m(\u001b[0m\u001b[0mkey\u001b[0m\u001b[1;33m)\u001b[0m\u001b[1;33m)\u001b[0m\u001b[1;33m\u001b[0m\u001b[1;33m\u001b[0m\u001b[0m\n\u001b[0m\u001b[0;32m    695\u001b[0m         \u001b[1;32mexcept\u001b[0m \u001b[0mValidationError\u001b[0m \u001b[1;32mas\u001b[0m \u001b[0moriginal_exception\u001b[0m\u001b[1;33m:\u001b[0m\u001b[1;33m\u001b[0m\u001b[1;33m\u001b[0m\u001b[0m\n\u001b[0;32m    696\u001b[0m             raise ValueError(\n",
      "\u001b[1;32m~\\anaconda3\\envs\\ethereum\\lib\\site-packages\\hexbytes\\main.py\u001b[0m in \u001b[0;36m__new__\u001b[1;34m(cls, val)\u001b[0m\n\u001b[0;32m     21\u001b[0m     \"\"\"\n\u001b[0;32m     22\u001b[0m     \u001b[1;32mdef\u001b[0m \u001b[0m__new__\u001b[0m\u001b[1;33m(\u001b[0m\u001b[0mcls\u001b[0m\u001b[1;33m:\u001b[0m \u001b[0mType\u001b[0m\u001b[1;33m[\u001b[0m\u001b[0mbytes\u001b[0m\u001b[1;33m]\u001b[0m\u001b[1;33m,\u001b[0m \u001b[0mval\u001b[0m\u001b[1;33m:\u001b[0m \u001b[0mUnion\u001b[0m\u001b[1;33m[\u001b[0m\u001b[0mbool\u001b[0m\u001b[1;33m,\u001b[0m \u001b[0mbytearray\u001b[0m\u001b[1;33m,\u001b[0m \u001b[0mbytes\u001b[0m\u001b[1;33m,\u001b[0m \u001b[0mint\u001b[0m\u001b[1;33m,\u001b[0m \u001b[0mstr\u001b[0m\u001b[1;33m]\u001b[0m\u001b[1;33m)\u001b[0m \u001b[1;33m->\u001b[0m \u001b[1;34m\"HexBytes\"\u001b[0m\u001b[1;33m:\u001b[0m\u001b[1;33m\u001b[0m\u001b[1;33m\u001b[0m\u001b[0m\n\u001b[1;32m---> 23\u001b[1;33m         \u001b[0mbytesval\u001b[0m \u001b[1;33m=\u001b[0m \u001b[0mto_bytes\u001b[0m\u001b[1;33m(\u001b[0m\u001b[0mval\u001b[0m\u001b[1;33m)\u001b[0m\u001b[1;33m\u001b[0m\u001b[1;33m\u001b[0m\u001b[0m\n\u001b[0m\u001b[0;32m     24\u001b[0m         \u001b[1;32mreturn\u001b[0m \u001b[0mcast\u001b[0m\u001b[1;33m(\u001b[0m\u001b[0mHexBytes\u001b[0m\u001b[1;33m,\u001b[0m \u001b[0msuper\u001b[0m\u001b[1;33m(\u001b[0m\u001b[1;33m)\u001b[0m\u001b[1;33m.\u001b[0m\u001b[0m__new__\u001b[0m\u001b[1;33m(\u001b[0m\u001b[0mcls\u001b[0m\u001b[1;33m,\u001b[0m \u001b[0mbytesval\u001b[0m\u001b[1;33m)\u001b[0m\u001b[1;33m)\u001b[0m  \u001b[1;31m# type: ignore  # https://github.com/python/typeshed/issues/2630  # noqa: E501\u001b[0m\u001b[1;33m\u001b[0m\u001b[1;33m\u001b[0m\u001b[0m\n\u001b[0;32m     25\u001b[0m \u001b[1;33m\u001b[0m\u001b[0m\n",
      "\u001b[1;32m~\\anaconda3\\envs\\ethereum\\lib\\site-packages\\hexbytes\\_utils.py\u001b[0m in \u001b[0;36mto_bytes\u001b[1;34m(val)\u001b[0m\n\u001b[0;32m     15\u001b[0m         \u001b[1;32mreturn\u001b[0m \u001b[0mval\u001b[0m\u001b[1;33m\u001b[0m\u001b[1;33m\u001b[0m\u001b[0m\n\u001b[0;32m     16\u001b[0m     \u001b[1;32melif\u001b[0m \u001b[0misinstance\u001b[0m\u001b[1;33m(\u001b[0m\u001b[0mval\u001b[0m\u001b[1;33m,\u001b[0m \u001b[0mstr\u001b[0m\u001b[1;33m)\u001b[0m\u001b[1;33m:\u001b[0m\u001b[1;33m\u001b[0m\u001b[1;33m\u001b[0m\u001b[0m\n\u001b[1;32m---> 17\u001b[1;33m         \u001b[1;32mreturn\u001b[0m \u001b[0mhexstr_to_bytes\u001b[0m\u001b[1;33m(\u001b[0m\u001b[0mval\u001b[0m\u001b[1;33m)\u001b[0m\u001b[1;33m\u001b[0m\u001b[1;33m\u001b[0m\u001b[0m\n\u001b[0m\u001b[0;32m     18\u001b[0m     \u001b[1;32melif\u001b[0m \u001b[0misinstance\u001b[0m\u001b[1;33m(\u001b[0m\u001b[0mval\u001b[0m\u001b[1;33m,\u001b[0m \u001b[0mbytearray\u001b[0m\u001b[1;33m)\u001b[0m\u001b[1;33m:\u001b[0m\u001b[1;33m\u001b[0m\u001b[1;33m\u001b[0m\u001b[0m\n\u001b[0;32m     19\u001b[0m         \u001b[1;32mreturn\u001b[0m \u001b[0mbytes\u001b[0m\u001b[1;33m(\u001b[0m\u001b[0mval\u001b[0m\u001b[1;33m)\u001b[0m\u001b[1;33m\u001b[0m\u001b[1;33m\u001b[0m\u001b[0m\n",
      "\u001b[1;32m~\\anaconda3\\envs\\ethereum\\lib\\site-packages\\hexbytes\\_utils.py\u001b[0m in \u001b[0;36mhexstr_to_bytes\u001b[1;34m(hexstr)\u001b[0m\n\u001b[0;32m     48\u001b[0m         \u001b[1;32mraise\u001b[0m \u001b[0mValueError\u001b[0m\u001b[1;33m(\u001b[0m\u001b[1;34mf\"hex string {padded_hex} may only contain [0-9a-fA-F] characters\"\u001b[0m\u001b[1;33m)\u001b[0m\u001b[1;33m\u001b[0m\u001b[1;33m\u001b[0m\u001b[0m\n\u001b[0;32m     49\u001b[0m     \u001b[1;32melse\u001b[0m\u001b[1;33m:\u001b[0m\u001b[1;33m\u001b[0m\u001b[1;33m\u001b[0m\u001b[0m\n\u001b[1;32m---> 50\u001b[1;33m         \u001b[1;32mreturn\u001b[0m \u001b[0mbinascii\u001b[0m\u001b[1;33m.\u001b[0m\u001b[0munhexlify\u001b[0m\u001b[1;33m(\u001b[0m\u001b[0mascii_hex\u001b[0m\u001b[1;33m)\u001b[0m\u001b[1;33m\u001b[0m\u001b[1;33m\u001b[0m\u001b[0m\n\u001b[0m",
      "\u001b[1;31mError\u001b[0m: Non-hexadecimal digit found"
     ]
    }
   ],
   "source": [
    "priv_key_to_account(ETH, coins['eth'][0]['privkey'])"
   ]
  },
  {
   "cell_type": "code",
   "execution_count": 29,
   "metadata": {},
   "outputs": [
    {
     "data": {
      "text/plain": [
       "<PrivateKeyTestnet: mjKM16PE2sGLZNB93F1LkBmyPmVsPiAAeS>"
      ]
     },
     "execution_count": 29,
     "metadata": {},
     "output_type": "execute_result"
    }
   ],
   "source": [
    "priv_key_to_account(BTCTEST, coins['btc-test'][0]['privkey'])"
   ]
  },
  {
   "cell_type": "code",
   "execution_count": 40,
   "metadata": {},
   "outputs": [],
   "source": [
    "#function 2 create_tx\n",
    "def create_tx(coin, account, to ,amount):\n",
    "    if coin == ETH:\n",
    "        gasEstimate = w3.eth.estimateGas(\n",
    "        {\"from\": account.address, \"to\": recipient, \"value\":amount})\n",
    "    return {\n",
    "        \"from\": account.address,\n",
    "        \"to\": recipient,\n",
    "        \"value\": amount,\n",
    "        \"gasPrice\": w3.eth.gasPrice,\n",
    "        \"gas\": gasEstimate,\n",
    "        \"nonce\": w3.eth.getTransactionCount(account.address),\n",
    "        \"chainID\":web3.eth.chainId()\n",
    "    }\n",
    "    if coin == BTCTEST:\n",
    "        return PrivateKeyTestnet.prepare_transaction(account.address, [(to, amount, BTC)])"
   ]
  },
  {
   "cell_type": "code",
   "execution_count": 61,
   "metadata": {},
   "outputs": [],
   "source": [
    "#function 3 sent_tx\n",
    "def sent_tx(coin, account, to, amount):\n",
    "    raw_tx=create_tx(coin, account, to, amount)\n",
    "    if coin == ETH:\n",
    "        signed_tx = account.sign_transaction(raw_tx)\n",
    "        result = w3.eth.sendRawTransaction(signed.rawTransaction)\n",
    "        return result.hex()\n",
    "    #after signing send to network for BTCTEST\n",
    "    elif coin == BTCTEST:\n",
    "        signed_tx = account.sign_transaction(tx)\n",
    "        return NetworkAPI.broadcast_tx_testnet(signed_tx)"
   ]
  },
  {
   "cell_type": "code",
   "execution_count": 60,
   "metadata": {},
   "outputs": [
    {
     "ename": "SyntaxError",
     "evalue": "invalid syntax (<ipython-input-60-f8f493719b13>, line 2)",
     "output_type": "error",
     "traceback": [
      "\u001b[1;36m  File \u001b[1;32m\"<ipython-input-60-f8f493719b13>\"\u001b[1;36m, line \u001b[1;32m2\u001b[0m\n\u001b[1;33m    geth -- datadir nodeX init networkname.json\u001b[0m\n\u001b[1;37m                        ^\u001b[0m\n\u001b[1;31mSyntaxError\u001b[0m\u001b[1;31m:\u001b[0m invalid syntax\n"
     ]
    }
   ],
   "source": [
    "#Local PoA Eth transaction \n",
    "## not finished\n",
    "geth -- datadir nodeX init networkname.json\n",
    "from web3.middleware import geth_poa_middleware\n",
    "w3.middleware_onion.inject(geth_poa_middleware, layer = 0)\n",
    "    "
   ]
  },
  {
   "cell_type": "code",
   "execution_count": null,
   "metadata": {},
   "outputs": [],
   "source": [
    "#remember use converter eth to wei\n",
    "\n"
   ]
  },
  {
   "cell_type": "code",
   "execution_count": null,
   "metadata": {},
   "outputs": [],
   "source": []
  },
  {
   "cell_type": "code",
   "execution_count": null,
   "metadata": {},
   "outputs": [],
   "source": []
  }
 ],
 "metadata": {
  "kernelspec": {
   "display_name": "Python 3",
   "language": "python",
   "name": "python3"
  },
  "language_info": {
   "codemirror_mode": {
    "name": "ipython",
    "version": 3
   },
   "file_extension": ".py",
   "mimetype": "text/x-python",
   "name": "python",
   "nbconvert_exporter": "python",
   "pygments_lexer": "ipython3",
   "version": "3.7.7"
  }
 },
 "nbformat": 4,
 "nbformat_minor": 4
}
